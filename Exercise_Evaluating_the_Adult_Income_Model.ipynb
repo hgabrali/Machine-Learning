{
  "nbformat": 4,
  "nbformat_minor": 0,
  "metadata": {
    "colab": {
      "provenance": [],
      "authorship_tag": "ABX9TyMFGa12trcRiiDhEd7ck/0X",
      "include_colab_link": true
    },
    "kernelspec": {
      "name": "python3",
      "display_name": "Python 3"
    },
    "language_info": {
      "name": "python"
    }
  },
  "cells": [
    {
      "cell_type": "markdown",
      "metadata": {
        "id": "view-in-github",
        "colab_type": "text"
      },
      "source": [
        "<a href=\"https://colab.research.google.com/github/hgabrali/Machine-Learning/blob/main/Exercise_Evaluating_the_Adult_Income_Model.ipynb\" target=\"_parent\"><img src=\"https://colab.research.google.com/assets/colab-badge.svg\" alt=\"Open In Colab\"/></a>"
      ]
    },
    {
      "cell_type": "markdown",
      "source": [
        "# 📊 Model Evaluation: Diving Deeper into Classification Metrics\n",
        "\n",
        "This exercise continues the work from the previous week where you preprocessed the **UCI Adult Income dataset** and trained an initial classification model (e.g., Logistic Regression). The primary goal is to predict whether an individual earns **>50K** (our positive class) or **<=50K** (our negative class).\n",
        "\n",
        "---\n",
        "\n",
        "## 📝 Background and Evaluation Goals\n",
        "\n",
        "We have already computed basic **Accuracy**. Now, we will use the **Confusion Matrix** as a foundation to compute and interpret advanced metrics that reveal the model's true strengths and weaknesses across different error types.\n",
        "\n",
        "### **Metrics to Compute**\n",
        "\n",
        "1.  **Accuracy** (Reviewed)\n",
        "2.  **Precision**\n",
        "3.  **Recall (Sensitivity)**\n",
        "4.  **F1 Score**\n",
        "5.  **ROC Curve and AUC**\n",
        "\n",
        "---\n",
        "\n",
        "## 🎯 Your Task\n",
        "\n",
        "Your task is to implement the necessary Python code to calculate these metrics and critically analyze the model's performance on the test set.\n",
        "\n",
        "### **Step 1: Compute All Metrics**\n",
        "\n",
        "Use `sklearn.metrics` to compute the required classification metrics and visualize the ROC curve.\n",
        "\n",
        "```python\n",
        "# 📌 ASSUMPTION: 'y_test' (True Labels) and 'y_pred' (Predicted Labels)\n",
        "# and 'y_proba' (Predicted Probabilities for the positive class)\n",
        "# are already defined from your previous training step.\n",
        "\n",
        "from sklearn.metrics import accuracy_score, precision_score, recall_score, f1_score, confusion_matrix\n",
        "from sklearn.metrics import roc_curve, roc_auc_score\n",
        "import matplotlib.pyplot as plt\n",
        "import seaborn as sns\n",
        "\n",
        "# 1. Confusion Matrix\n",
        "cm = confusion_matrix(y_test, y_pred)\n",
        "print(\"--- Confusion Matrix ---\")\n",
        "print(cm)\n",
        "\n",
        "# 2. Compute Metrics\n",
        "accuracy = accuracy_score(y_test, y_pred)\n",
        "precision = precision_score(y_test, y_pred)\n",
        "recall = recall_score(y_test, y_pred)\n",
        "f1 = f1_score(y_test, y_pred)\n",
        "auc = roc_auc_score(y_test, y_proba) # Use probabilities for AUC\n",
        "\n",
        "print(\"\\n--- Model Performance Summary ---\")\n",
        "print(f\"Accuracy: {accuracy:.4f}\")\n",
        "print(f\"Precision: {precision:.4f}\")\n",
        "print(f\"Recall:    {recall:.4f}\")\n",
        "print(f\"F1 Score:  {f1:.4f}\")\n",
        "print(f\"AUC Score: {auc:.4f}\")\n",
        "\n",
        "# 3. Plot ROC Curve\n",
        "fpr, tpr, thresholds = roc_curve(y_test, y_proba)\n",
        "plt.figure(figsize=(8, 6))\n",
        "plt.plot(fpr, tpr, label=f\"ROC Curve (AUC = {auc:.4f})\")\n",
        "plt.plot([0, 1], [0, 1], linestyle=\"--\", color=\"gray\", label=\"Random Chance (AUC=0.5)\")\n",
        "plt.xlabel(\"False Positive Rate\")\n",
        "plt.ylabel(\"True Positive Rate (Recall)\")\n",
        "plt.title(\"Receiver Operating Characteristic (ROC) Curve\")\n",
        "plt.legend()\n",
        "plt.show()"
      ],
      "metadata": {
        "id": "3_7g2hUnIBw8"
      }
    },
    {
      "cell_type": "code",
      "execution_count": null,
      "metadata": {
        "id": "mA-PgJ45HlfO"
      },
      "outputs": [],
      "source": []
    },
    {
      "cell_type": "markdown",
      "source": [
        "---\n",
        "## Step 2: 🧐 Interpretation and Business Analysis\n",
        "\n",
        "After calculating the metrics (Accuracy, Precision, Recall, F1 Score, and AUC), it's crucial to interpret these numbers in the context of the business problem: predicting income $ >50K$ (Positive Class) vs. $\\leq 50K$ (Negative Class).\n",
        "\n",
        "### **1. Comparison: Accuracy vs. Specialized Metrics**\n",
        "\n",
        "Compare the overall **Accuracy** score to **Precision**, **Recall**, and **F1 Score**.\n",
        "\n",
        "**Analysis Questions:**\n",
        "\n",
        "* Do **Precision**, **Recall**, and **F1 Score** tell a different story than **Accuracy**?\n",
        "    * *(Hint: The Adult Income dataset is often imbalanced, meaning the $\\boldsymbol{>50K}$ class is smaller. Accuracy can be artificially inflated in imbalanced datasets.)*\n",
        "* If the scores are significantly different, which specific error type does your model struggle with the most?\n",
        "    * **Low Precision** suggests many **False Positives (FP)** (wrongly predicting $\\boldsymbol{>50K}$).\n",
        "    * **Low Recall** suggests many **False Negatives (FN)** (missing true $\\boldsymbol{>50K}$ earners).\n",
        "\n",
        "### **2. Plain Language Interpretation**\n",
        "\n",
        "Use the calculated values to explain the model's performance in clear, non-technical terms:\n",
        "\n",
        "* **Precision Interpretation:**\n",
        "    > \"Out of all the people the model **predicted as high earners** ($>50K$), only **[Paste Precision Value here]%** actually were.\" (This is the confidence level in our positive predictions.)\n",
        "\n",
        "* **Recall Interpretation:**\n",
        "    > \"The model correctly **identifies [Paste Recall Value here]%** of all **true high earners**.\" (This is the fraction of the actual target group we successfully captured.)\n",
        "\n",
        "### **3. Business Decision: Prioritizing Precision vs. Recall**\n",
        "\n",
        "The choice between prioritizing Precision or Recall depends entirely on the associated business cost of each error type.\n",
        "\n",
        "| Error Type | Cost to Business (Example Scenario) | Metric to Prioritize |\n",
        "| :--- | :--- | :--- |\n",
        "| **False Negative (FN)** | Missing a true high earner. $\\to$ **Loss of a valuable lead** for a premium product. | **Recall** (Minimize FN) |\n",
        "| **False Positive (FP)** | Wrongly flagging a low earner as high. $\\to$ **Wasting marketing/sales resources** on an unqualified prospect. | **Precision** (Minimize FP) |\n",
        "\n",
        "**Your Decision:**\n",
        "\n",
        "* **Decision:** Which metric is most important for this scenario (e.g., maximizing high-value customer acquisition)? **Precision** or **Recall**?\n",
        "* **Justification:** Explain *why* the cost of one error type (FP or FN) outweighs the other in this income prediction context.\n",
        "\n",
        "---"
      ],
      "metadata": {
        "id": "TdNZLnSJIje1"
      }
    },
    {
      "cell_type": "markdown",
      "source": [
        "----\n",
        "\n",
        "---\n",
        "\n"
      ],
      "metadata": {
        "id": "_29nu7zJInn3"
      }
    },
    {
      "cell_type": "markdown",
      "source": [
        "# 🛠️ Essential Feature Preparation for UCI Adult Income Dataset\n",
        "\n",
        "It is **MANDATORY** to perform feature preparation (preprocessing) steps before training machine learning models on the raw UCI Adult Income dataset. This dataset contains various data types and issues that prevent direct use in most ML algorithms.\n",
        "\n",
        "Here is a list of the core preprocessing steps required for the Adult dataset:\n",
        "\n",
        "---\n",
        "\n",
        "## 📋 Mandatory Preprocessing Steps\n",
        "\n",
        "| Step | Rationale (Why is it necessary?) | Implementation Technique | Emoji |\n",
        "| :--- | :--- | :--- | :--- |\n",
        "| **1. Handle Missing Values** | The dataset uses the character `?` to denote missing values. These cannot be processed numerically or categorized correctly by models. | Replace `?` values with `NaN`. Then, use **Imputation** (e.g., fill with the mode for categorical features) or drop rows/columns (use cautiously). | ❓🧹 |\n",
        "| **2. Encode Categorical Variables** | Machine learning models (like Logistic Regression) cannot process text-based categorical features (`Workclass`, `Occupation`, etc.). | Apply **One-Hot Encoding** (for nominal/unordered categories) or **Label Encoding** (for ordinal/ordered categories and the target variable). | 🏷️🔢 |\n",
        "| **3. Encode the Target Variable** | The target variable (`Income`: $>50K$ or $\\leq 50K$) is initially text. | Convert the target variable into a binary numerical format: **1** for $\\boldsymbol{>50K}$ (Positive Class) and **0** for $\\boldsymbol{\\leq 50K}$ (Negative Class). | 🎯0️⃣1️⃣ |\n",
        "| **4. Scale Numerical Features** | Numerical features (`Age`, `Capital-gain`, `Hours-per-week`, etc.) have vastly different ranges, which can bias distance-based and gradient-descent algorithms. | Use **StandardScaler** or **MinMaxScaler** to normalize the range of these features. | 📏🔄 |\n",
        "| **5. Address Class Imbalance** | The positive class ($\\boldsymbol{>50K}$) typically represents only about 25% of the data, which can lead the model to be biased toward the majority class ($\\boldsymbol{\\leq 50K}$). | During evaluation, rely on **Precision, Recall, F1, and AUC** (as covered in this lesson). During training, consider techniques like **SMOTE** or using **class weights**. | ⚖️📉 |\n",
        "\n",
        "**Conclusion:** If you have trained your model previously, you should have already completed these steps. Accurate model evaluation and reliable metric scores depend entirely on well-preprocessed data."
      ],
      "metadata": {
        "id": "QcH5YoScLMmx"
      }
    },
    {
      "cell_type": "code",
      "source": [
        "import pandas as pd\n",
        "import numpy as np\n",
        "# Sklearn'ün veri hazırlama araçlarını kullanacağız\n",
        "from sklearn.model_selection import train_test_split\n",
        "from sklearn.preprocessing import StandardScaler, OneHotEncoder\n",
        "from sklearn.compose import ColumnTransformer\n",
        "from sklearn.pipeline import Pipeline"
      ],
      "metadata": {
        "id": "rIV48vb1Nffs"
      },
      "execution_count": 1,
      "outputs": []
    },
    {
      "cell_type": "code",
      "source": [
        "# Veri seti sütun isimleri (Dosyada başlık satırı olmadığı için elle tanımlanır)\n",
        "COLUMNS = [\n",
        "    'age', 'workclass', 'fnlwgt', 'education', 'education-num',\n",
        "    'marital-status', 'occupation', 'relationship', 'race', 'sex',\n",
        "    'capital-gain', 'capital-loss', 'hours-per-week', 'native-country', 'income'\n",
        "]\n",
        "\n",
        "# Veri setini internetten yükleme (Test ve Train setlerini birleştiriyoruz)\n",
        "try:\n",
        "    df_train = pd.read_csv(\n",
        "        'https://archive.ics.uci.edu/ml/machine-learning-databases/adult/adult.data',\n",
        "        names=COLUMNS, sep=r'\\s*,\\s*', engine='python', na_values='?'\n",
        "    )\n",
        "    df_test = pd.read_csv(\n",
        "        'https://archive.ics.uci.edu/ml/machine-learning-databases/adult/adult.test',\n",
        "        names=COLUMNS, sep=r'\\s*,\\s*', skiprows=1, engine='python', na_values='?'\n",
        "    )\n",
        "\n",
        "    # İki veri setini birleştirme\n",
        "    df = pd.concat([df_train, df_test], ignore_index=True)\n",
        "    print(\"Veri seti başarıyla yüklendi ve birleştirildi.\")\n",
        "    print(f\"Toplam Satır Sayısı: {len(df)}\")\n",
        "    print(\"İlk 5 satır:\")\n",
        "    print(df.head())\n",
        "\n",
        "except Exception as e:\n",
        "    print(f\"Hata oluştu: {e}\")\n",
        "    print(\"Veri setini Google Drive'dan yüklemeniz gerekebilir.\")\n",
        "    # Eğer Drive kullanacaksanız, aşağıdaki kod ile bağlantı kurabilirsiniz:\n",
        "    # from google.colab import drive\n",
        "    # drive.mount('/content/drive')\n",
        "    # df = pd.read_csv('/content/drive/MyDrive/yol/adult.csv', names=COLUMNS, na_values='?')"
      ],
      "metadata": {
        "colab": {
          "base_uri": "https://localhost:8080/"
        },
        "id": "SSFjtKmGNkE6",
        "outputId": "1e740589-142d-47ab-8854-2cafa476eb38"
      },
      "execution_count": 2,
      "outputs": [
        {
          "output_type": "stream",
          "name": "stdout",
          "text": [
            "Veri seti başarıyla yüklendi ve birleştirildi.\n",
            "Toplam Satır Sayısı: 48842\n",
            "İlk 5 satır:\n",
            "   age         workclass  fnlwgt  education  education-num  \\\n",
            "0   39         State-gov   77516  Bachelors             13   \n",
            "1   50  Self-emp-not-inc   83311  Bachelors             13   \n",
            "2   38           Private  215646    HS-grad              9   \n",
            "3   53           Private  234721       11th              7   \n",
            "4   28           Private  338409  Bachelors             13   \n",
            "\n",
            "       marital-status         occupation   relationship   race     sex  \\\n",
            "0       Never-married       Adm-clerical  Not-in-family  White    Male   \n",
            "1  Married-civ-spouse    Exec-managerial        Husband  White    Male   \n",
            "2            Divorced  Handlers-cleaners  Not-in-family  White    Male   \n",
            "3  Married-civ-spouse  Handlers-cleaners        Husband  Black    Male   \n",
            "4  Married-civ-spouse     Prof-specialty           Wife  Black  Female   \n",
            "\n",
            "   capital-gain  capital-loss  hours-per-week native-country income  \n",
            "0          2174             0              40  United-States  <=50K  \n",
            "1             0             0              13  United-States  <=50K  \n",
            "2             0             0              40  United-States  <=50K  \n",
            "3             0             0              40  United-States  <=50K  \n",
            "4             0             0              40           Cuba  <=50K  \n"
          ]
        }
      ]
    },
    {
      "cell_type": "markdown",
      "source": [
        "# 🚀 **FEATURE PREPARATION: VAZGEÇİLMEZ HAZIRLIK** 🧹\n",
        "\n",
        "# 1.1 Eksik Değerleri ve Hedef Değişkeni Temizleme"
      ],
      "metadata": {
        "id": "JZyoYc5yOC_C"
      }
    },
    {
      "cell_type": "code",
      "source": [
        "# Step 1: Handle Missing Values\n",
        "# 1. Eksik Değerleri Ele Alma: NaN içeren satırları siliyoruz (Basitlik için)\n",
        "# Alternatif olarak, mode ile doldurma yapılabilir, ancak silmek daha yaygındır.\n",
        "df.dropna(inplace=True)\n",
        "\n",
        "# 2. Hedef Değişkeni (Income) Kodlama\n",
        "# Veri setinde hedef değişken sonunda nokta içerir. Onu temizleyelim.\n",
        "df['income'] = df['income'].str.replace('.', '', regex=False)\n",
        "df['income'] = df['income'].map({'<=50K': 0, '>50K': 1})\n",
        "\n",
        "print(f\"\\nTemizlemeden sonra kalan satır sayısı: {len(df)}\")\n",
        "print(f\"Hedef Değişken Dağılımı:\\n{df['income'].value_counts()}\")\n"
      ],
      "metadata": {
        "colab": {
          "base_uri": "https://localhost:8080/"
        },
        "id": "FX42xrppNkBl",
        "outputId": "bd40ccc9-15d3-4788-cf30-15b88227ce2a"
      },
      "execution_count": 3,
      "outputs": [
        {
          "output_type": "stream",
          "name": "stdout",
          "text": [
            "\n",
            "Temizlemeden sonra kalan satır sayısı: 45222\n",
            "Hedef Değişken Dağılımı:\n",
            "income\n",
            "0    34014\n",
            "1    11208\n",
            "Name: count, dtype: int64\n"
          ]
        }
      ]
    },
    {
      "cell_type": "markdown",
      "source": [
        "# 1.2 Özellik Mühendisliği (Pipeline Kurulumu)\n",
        "\n",
        "* Modeli eğitmeden önce veri tiplerine göre dönüşüm yapacak bir ColumnTransformer (sütun dönüştürücü) kuralım."
      ],
      "metadata": {
        "id": "JS_riCIZOUlm"
      }
    },
    {
      "cell_type": "code",
      "source": [
        "# Özellik tiplerini belirleme\n",
        "NUMERICAL_FEATURES = ['age', 'fnlwgt', 'education-num', 'capital-gain', 'capital-loss', 'hours-per-week']\n",
        "CATEGORICAL_FEATURES = [\n",
        "    'workclass', 'education', 'marital-status', 'occupation', 'relationship',\n",
        "    'race', 'sex', 'native-country'\n",
        "]\n",
        "\n",
        "# Sütun Dönüştürücü (Pipeline) oluşturma\n",
        "\n",
        "# 1. Sayısal Özellikler için: Ölçeklendirme (Scaling)\n",
        "numeric_transformer = Pipeline(steps=[\n",
        "    ('scaler', StandardScaler())\n",
        "])\n",
        "\n",
        "# 2. Kategorik Özellikler için: One-Hot Encoding\n",
        "categorical_transformer = Pipeline(steps=[\n",
        "    ('onehot', OneHotEncoder(handle_unknown='ignore'))\n",
        "])\n",
        "\n",
        "# Tüm sütunlara uygulanacak ana dönüştürücü\n",
        "preprocessor = ColumnTransformer(\n",
        "    transformers=[\n",
        "        ('num', numeric_transformer, NUMERICAL_FEATURES),\n",
        "        ('cat', categorical_transformer, CATEGORICAL_FEATURES)\n",
        "    ])\n",
        "\n",
        "print(\"\\nÖzellik Hazırlama (Preprocessing) Pipeline'ı kuruldu.\")"
      ],
      "metadata": {
        "colab": {
          "base_uri": "https://localhost:8080/"
        },
        "id": "lyqBTWW2Nj8S",
        "outputId": "41108eca-3478-46eb-f476-4155b1915ef6"
      },
      "execution_count": 4,
      "outputs": [
        {
          "output_type": "stream",
          "name": "stdout",
          "text": [
            "\n",
            "Özellik Hazırlama (Preprocessing) Pipeline'ı kuruldu.\n"
          ]
        }
      ]
    },
    {
      "cell_type": "markdown",
      "source": [
        "# 1.3 Veriyi Hazırlama ve Bölme\n",
        "\n",
        "* Model eğitimi için veriyi bağımlı (X) ve bağımsız (y) değişkenlere ayırıp, Eğitim ve Test setlerine bölelim."
      ],
      "metadata": {
        "id": "-SHXUH_cOkCv"
      }
    },
    {
      "cell_type": "code",
      "source": [
        "X = df.drop('income', axis=1)\n",
        "y = df['income']\n",
        "\n",
        "# Veriyi Eğitim ve Test setlerine bölme\n",
        "X_train, X_test, y_train, y_test = train_test_split(\n",
        "    X, y, test_size=0.2, random_state=42, stratify=y\n",
        ")\n",
        "\n",
        "print(f\"\\nEğitim Seti Boyutu: {X_train.shape}\")\n",
        "print(f\"Test Seti Boyutu: {X_test.shape}\")\n",
        "print(\"Veri hazırlama tamamlandı.\")"
      ],
      "metadata": {
        "colab": {
          "base_uri": "https://localhost:8080/"
        },
        "id": "NnUcmlPCNjxt",
        "outputId": "72176c4a-b216-4564-a181-e3af503b3b2e"
      },
      "execution_count": 5,
      "outputs": [
        {
          "output_type": "stream",
          "name": "stdout",
          "text": [
            "\n",
            "Eğitim Seti Boyutu: (36177, 14)\n",
            "Test Seti Boyutu: (9045, 14)\n",
            "Veri hazırlama tamamlandı.\n"
          ]
        }
      ]
    },
    {
      "cell_type": "markdown",
      "source": [
        "# **2. Kategorik Değişkenleri Kodlama (Encoding Categorical Variables)**\n",
        "\n",
        "* Bu adımda, metin tabanlı kategorik özellikleri (workclass, education, sex vb.) One-Hot Encoding kullanarak ikili (binary) sayısal sütunlara dönüştürüyoruz."
      ],
      "metadata": {
        "id": "CCEG68g-PNST"
      }
    },
    {
      "cell_type": "markdown",
      "source": [
        "# 2.1 Kategorik Kodlama Pipeline'ı:\n",
        "\n",
        "* Önceki adımlarda kurduğumuz preprocessor nesnesi bu dönüşümü yapmaya hazırdı. Şimdi bu dönüştürücüyü, eğitim ve test verilerimize uygulayarak sayısal matrisler elde edelim."
      ],
      "metadata": {
        "id": "A8HVFzPXPgmM"
      }
    },
    {
      "cell_type": "code",
      "source": [
        "# Gerekli kütüphaneler zaten ADIM 0'da tanımlanmıştı:\n",
        "# from sklearn.compose import ColumnTransformer\n",
        "# from sklearn.preprocessing import OneHotEncoder, StandardScaler\n",
        "\n",
        "# Önceki adımdan (ADIM 1) gelen değişkenler:\n",
        "# X_train, X_test (ham veriler) ve preprocessor (dönüştürücü pipeline)\n",
        "\n",
        "# ==========================================================\n",
        "# Uygulama: Eğitim ve Test Verilerine Dönüşümü Uygulama\n",
        "# ==========================================================\n",
        "\n",
        "# 1. Pipeline'ı eğitim verisine uydurma (fit) ve dönüştürme (transform)\n",
        "# Bu adım, hangi kategorilerin olduğunu ve One-Hot Encoding'in nasıl yapılacağını öğrenir.\n",
        "X_train_processed = preprocessor.fit_transform(X_train)\n",
        "\n",
        "# 2. Pipeline'ı test verisine sadece dönüştürme (transform)\n",
        "# Eğitim verisinden öğrendiği kuralları test verisine uygular (Veri sızıntısını önler).\n",
        "X_test_processed = preprocessor.transform(X_test)\n",
        "\n",
        "\n",
        "# Dönüşüm sonrası boyutları kontrol etme\n",
        "print(\"--- Kategorik Kodlama Sonuçları ---\")\n",
        "print(f\"Orijinal Eğitim Verisi Boyutu: {X_train.shape}\")\n",
        "print(f\"Dönüştürülmüş Eğitim Verisi Boyutu: {X_train_processed.shape}\")\n",
        "print(f\"Dönüştürülmüş Test Verisi Boyutu: {X_test_processed.shape}\")\n",
        "\n",
        "# One-Hot Encoding ile özellik sayısının (sütun sayısının) arttığını göreceksiniz."
      ],
      "metadata": {
        "colab": {
          "base_uri": "https://localhost:8080/"
        },
        "id": "FpPijDl4NjjO",
        "outputId": "169fc4da-5eb0-4443-cde8-a4bba6ee1db1"
      },
      "execution_count": 6,
      "outputs": [
        {
          "output_type": "stream",
          "name": "stdout",
          "text": [
            "--- Kategorik Kodlama Sonuçları ---\n",
            "Orijinal Eğitim Verisi Boyutu: (36177, 14)\n",
            "Dönüştürülmüş Eğitim Verisi Boyutu: (36177, 104)\n",
            "Dönüştürülmüş Test Verisi Boyutu: (9045, 104)\n"
          ]
        }
      ]
    },
    {
      "cell_type": "markdown",
      "source": [
        "# 2.2 Dönüştürülmüş Veriyi İnceleme\n",
        "\n",
        "* Dönüştürülmüş veri artık bir Pandas DataFrame değil, seyrek (sparse) veya yoğun (dense) bir NumPy matrisidir."
      ],
      "metadata": {
        "id": "AyCHqqR_PzgM"
      }
    },
    {
      "cell_type": "code",
      "source": [
        "# Eğer dönüştürülmüş veri seyrek bir matris ise, yoğun matrise çevirelim\n",
        "if hasattr(X_train_processed, 'toarray'):\n",
        "    X_train_processed = X_train_processed.toarray()\n",
        "    X_test_processed = X_test_processed.toarray()\n",
        "\n",
        "print(\"\\nDönüştürülmüş Veri Tipi:\", type(X_train_processed))\n",
        "print(\"Dönüştürülmüş Verinin İlk Satırı (Örnek):\")\n",
        "print(X_train_processed[0, :5]) # İlk satırın ilk 5 sütununu göster"
      ],
      "metadata": {
        "colab": {
          "base_uri": "https://localhost:8080/"
        },
        "id": "tyPWvRxnNjTG",
        "outputId": "792cfcdd-6713-4f43-de5d-b122e030bb4c"
      },
      "execution_count": 7,
      "outputs": [
        {
          "output_type": "stream",
          "name": "stdout",
          "text": [
            "\n",
            "Dönüştürülmüş Veri Tipi: <class 'numpy.ndarray'>\n",
            "Dönüştürülmüş Verinin İlk Satırı (Örnek):\n",
            "[-1.40736572  0.64817975 -0.04667295 -0.14712559 -0.22040176]\n"
          ]
        }
      ]
    },
    {
      "cell_type": "markdown",
      "source": [
        "---\n",
        "## 📝 Özellik Hazırlama Adımlarının Özeti ve Sonrası\n",
        "\n",
        "Özellik hazırlama sürecinde kullandığımız `ColumnTransformer` ve `Pipeline` araçları sayesinde, listedeki 2, 3 ve 4. adımlar mantıksal olarak birleştirilmiş ve otomatikleştirilmiştir:\n",
        "\n",
        "| Liste Adımı | Nasıl Gerçekleşti? | Notlar |\n",
        "| :--- | :--- | :--- |\n",
        "| **ADIM 2: Kategorik Kodlama** | `ColumnTransformer` içindeki `OneHotEncoder` ile `fit_transform` metodunu uygulayarak gerçekleştirildi. | Artık metin verisi kalmadı, hepsi sayısal matrislere dönüştü. |\n",
        "| **ADIM 3: Hedef Değişken Kodlama** | **ADIM 1.2**'de `df['income'].map` fonksiyonu ile manuel olarak ($\\boldsymbol{>50K}$ $\\to$ 1, $\\boldsymbol{\\leq 50K}$ $\\to$ 0) gerçekleştirilmişti. | Bu işlem, ML algoritmalarının hedefi ikili sınıflandırma olarak algılamasını sağlar. |\n",
        "| **ADIM 4: Sayısal Ölçeklendirme** | `ColumnTransformer` içindeki `StandardScaler` ile `fit_transform` esnasında otomatik olarak uygulandı. | Tüm sayısal değerlerin ortalaması 0 ve standart sapması 1 olacak şekilde ayarlandı. |\n",
        "\n",
        "---\n",
        "\n",
        "## 🚀 Sırada: Model Eğitimi ve Değerlendirme\n",
        "\n",
        "Veri setimiz olan $\\boldsymbol{X_{train\\_processed}}$ (özellikler) ve $\\boldsymbol{y_{train}}$ (etiketler) artık makine öğrenimi algoritmaları için hazırdır.\n",
        "\n",
        "Şimdi doğrudan **Model Eğitimi** ve hemen ardından **Model Değerlendirme** aşamasına (Karışıklık Matrisi, Kesinlik, Duyarlılık, F1 Skoru, ROC/AUC) geçebiliriz!"
      ],
      "metadata": {
        "id": "BhGu-8L8Qdp1"
      }
    },
    {
      "cell_type": "markdown",
      "source": [
        "# 🧠 ADIM 5: Model Eğitimi (Lojistik Regresyon)\n",
        "\n",
        "Verilerimiz artık hazır (`X_train_processed` ve `y_train`). Sınıflandırma görevleri için hem hızlı hem de sonuçları kolay yorumlanabilen bir algoritma olan **Lojistik Regresyon (Logistic Regression)** modelini eğiteceğiz.\n",
        "\n",
        "Adult veri setindeki sınıf dengesizliğini hafifletmek amacıyla, modelin azınlık sınıfına (yüksek gelirli $\\boldsymbol{>50K}$) daha fazla ağırlık vermesini sağlayan `class_weight='balanced'` parametresini kullanıyoruz.\n",
        "\n",
        "## 5.1 Model Eğitimi"
      ],
      "metadata": {
        "id": "NxMjZVkmRC9N"
      }
    },
    {
      "cell_type": "code",
      "source": [
        "from sklearn.pipeline import Pipeline\n",
        "from sklearn.linear_model import LogisticRegression\n",
        "\n",
        "# (Varsayım: 'preprocessor' nesnesi ADIM 1.2'de tanımlanmıştır.)\n",
        "\n",
        "# Lojistik Regresyon modelini tanımlama\n",
        "log_reg_model = LogisticRegression(solver='liblinear', random_state=42, class_weight='balanced', max_iter=1000)\n",
        "\n",
        "# 🛑 full_pipeline burada tanımlanmalı! 🛑\n",
        "full_pipeline = Pipeline(steps=[\n",
        "    ('preprocessor', preprocessor), # Veri temizleme ve dönüştürme (Scaling, Encoding)\n",
        "    ('classifier', log_reg_model)  # Model eğitimi\n",
        "])"
      ],
      "metadata": {
        "id": "YmLO24xEUOIT"
      },
      "execution_count": 13,
      "outputs": []
    },
    {
      "cell_type": "code",
      "source": [
        "from sklearn.linear_model import LogisticRegression\n",
        "from sklearn.pipeline import Pipeline\n",
        "\n",
        "# 1. Pipeline Tanımlama (ADIM 5'in başına eklenmeli)\n",
        "log_reg_model = LogisticRegression(solver='liblinear', random_state=42, class_weight='balanced', max_iter=1000)\n",
        "full_pipeline = Pipeline(steps=[\n",
        "    ('preprocessor', preprocessor), # X_test/X_train'i otomatik işler\n",
        "    ('classifier', log_reg_model)\n",
        "])\n",
        "\n",
        "# 2. Pipeline'ı ham eğitim verisine uydurma (fit)\n",
        "# NOT: Artık X_train_processed kullanmıyoruz, ham X_train kullanıyoruz.\n",
        "full_pipeline.fit(X_train, y_train)\n",
        "\n",
        "print(\"Lojistik Regresyon Pipeline'ı başarıyla eğitildi.\")"
      ],
      "metadata": {
        "colab": {
          "base_uri": "https://localhost:8080/"
        },
        "id": "xwR6iUMsNjA_",
        "outputId": "d70bdc67-d015-46be-c9c0-2a2a1cc1be10"
      },
      "execution_count": 17,
      "outputs": [
        {
          "output_type": "stream",
          "name": "stdout",
          "text": [
            "Lojistik Regresyon Pipeline'ı başarıyla eğitildi.\n"
          ]
        }
      ]
    },
    {
      "cell_type": "code",
      "source": [
        "# Hata Düzeltme: Tahminleri yapmak için eğitilmiş 'model' nesnesini kullanmalıyız.\n",
        "# Ancak 'model', ham X_test verisini değil, işlenmiş X_test_processed verisini bekler.\n",
        "\n",
        "# 📌 Düzeltme için, önce X_test verisini PREPROCESSOR ile işlememiz gerekir (ADIM 2'de yapılmıştı):\n",
        "# from sklearn.pipeline import Pipeline\n",
        "# X_test_processed = preprocessor.transform(X_test)\n",
        "\n",
        "# Eğer X_test_processed zaten tanımlıysa, sadece model ismini düzeltin:\n",
        "\n",
        "# 1. Nihai Tahminler (0 veya 1)\n",
        "# HATA DÜZELTİLDİ: full_pipeline yerine eğitilmiş 'model' kullanılıyor.\n",
        "y_pred = model.predict(X_test_processed)\n",
        "\n",
        "# 2. Olasılık Tahminleri (ROC/AUC için gerekli)\n",
        "# HATA DÜZELTİLDİ: full_pipeline yerine eğitilmiş 'model' kullanılıyor.\n",
        "y_proba = model.predict_proba(X_test_processed)[:, 1]\n",
        "\n",
        "print(\"Test seti üzerinde nihai tahminler (y_pred) ve olasılıklar (y_proba) üretildi.\")"
      ],
      "metadata": {
        "colab": {
          "base_uri": "https://localhost:8080/"
        },
        "id": "vSiqytUNTQPP",
        "outputId": "511fcb76-1702-4892-c18a-603c446201bf"
      },
      "execution_count": 18,
      "outputs": [
        {
          "output_type": "stream",
          "name": "stdout",
          "text": [
            "Test seti üzerinde nihai tahminler (y_pred) ve olasılıklar (y_proba) üretildi.\n"
          ]
        }
      ]
    },
    {
      "cell_type": "markdown",
      "source": [
        "# 5.2 Tahminler Üretme (y_pred ve y_proba)\n",
        "\n",
        "* Model değerlendirmesi için test seti üzerinde nihai tahminleri ve olasılık tahminlerini üretelim."
      ],
      "metadata": {
        "id": "JMS8AouuRSDQ"
      }
    },
    {
      "cell_type": "code",
      "source": [
        "# 1. Nihai Tahminler (0 veya 1)\n",
        "# Değerlendirme için y_pred'i kullanacağız\n",
        "y_pred = full_pipeline.predict(X_test)\n",
        "\n",
        "# 2. Olasılık Tahminleri (ROC/AUC için gerekli)\n",
        "# Olasılık dizisinin pozitif sınıfa (indeks 1) ait olan kısmını alıyoruz.\n",
        "y_proba = full_pipeline.predict_proba(X_test)[:, 1]\n",
        "\n",
        "print(\"Test seti üzerinde nihai tahminler (y_pred) ve olasılıklar (y_proba) üretildi.\")"
      ],
      "metadata": {
        "colab": {
          "base_uri": "https://localhost:8080/"
        },
        "id": "Gh9KghK9P22e",
        "outputId": "669f4608-f04e-4e8b-d53b-be7b1ce513cc"
      },
      "execution_count": 19,
      "outputs": [
        {
          "output_type": "stream",
          "name": "stdout",
          "text": [
            "Test seti üzerinde nihai tahminler (y_pred) ve olasılıklar (y_proba) üretildi.\n"
          ]
        }
      ]
    },
    {
      "cell_type": "markdown",
      "source": [
        "# 🛠️ADIM 6: Model Değerlendirme Çalışması: Adım Adım Yapılacaklar Listesi\n",
        "\n",
        "Bu çalışma, elinizdeki sınıflandırma modelini (örneğin UCI Adult Income verisi için eğitilmiş Lojistik Regresyon) öğrendiğiniz tüm metriklerle (Kesinlik, Duyarlılık, F1 Skoru, ROC/AUC) detaylıca değerlendirmeyi amaçlamaktadır.\n",
        "\n",
        "---\n",
        "\n",
        "## 📌 Ön Koşullar (Hazır Olması Gerekenler)\n",
        "\n",
        "Aşağıdaki üç temel değişkenin, model eğitim ve test süreçlerinizden **hazır ve erişilebilir** olması gerekir:\n",
        "\n",
        "1.  **`y_test`**: Test setinin **gerçek etiketleri** (Gerçek $\\boldsymbol{>50K}$ veya $\\boldsymbol{\\leq 50K}$ değerleri).\n",
        "2.  **`y_pred`**: Modelinizin `y_test` için ürettiği **nihai tahminler** (0 veya 1).\n",
        "3.  **`y_proba`**: Modelinizin `y_test` için ürettiği **olasılık tahminleri** (Genellikle pozitif sınıfa ait olma olasılığı, 0 ile 1 arası değerler).\n",
        "\n",
        "---\n",
        "\n",
        "## 6.1 Gerekli Kütüphaneleri Yükleme\n",
        "\n"
      ],
      "metadata": {
        "id": "kpp7dOESLTu6"
      }
    },
    {
      "cell_type": "code",
      "source": [
        "import numpy as np\n",
        "import seaborn as sns\n",
        "import matplotlib.pyplot as plt\n",
        "from sklearn.metrics import (\n",
        "    accuracy_score, precision_score, recall_score, f1_score,\n",
        "    confusion_matrix, roc_curve, roc_auc_score\n",
        ")\n",
        "# Örnek veri oluşturmak veya yüklemek için numpy'a ihtiyacınız olabilir\n",
        "# import numpy as np"
      ],
      "metadata": {
        "id": "POoWmb77LtCK"
      },
      "execution_count": 20,
      "outputs": []
    },
    {
      "cell_type": "markdown",
      "source": [
        "# 6.2 Karışıklık Matrisini Hesaplama\n",
        "\n",
        "* Tüm metriklerin temelini oluşturan Karışıklık Matrisi'ni (Confusion Matrix) hesaplayın ve görüntüleyin."
      ],
      "metadata": {
        "id": "JAtQgYr3MHp1"
      }
    },
    {
      "cell_type": "code",
      "source": [
        "# 'y_test' ve 'y_pred' değişkenlerini kullanarak matrisi hesaplayın\n",
        "cm = confusion_matrix(y_test, y_pred)\n",
        "\n",
        "print(\"--- Karışıklık Matrisi (Confusion Matrix) ---\")\n",
        "print(f\"Gerçek Negatif (TN): {cm[0, 0]}\")\n",
        "print(f\"Yanlış Pozitif (FP): {cm[0, 1]}\")\n",
        "print(f\"Yanlış Negatif (FN): {cm[1, 0]}\")\n",
        "print(f\"Doğru Pozitif (TP): {cm[1, 1]}\")\n",
        "print(\"\\nMatris Tablosu:\")\n",
        "print(cm)\n",
        "\n",
        "# Opsiyonel: Matrisi görselleştirmek için ConfusionMatrixDisplay kullanın\n",
        "from sklearn.metrics import ConfusionMatrixDisplay\n",
        "disp = ConfusionMatrixDisplay(confusion_matrix=cm, display_labels=[\"<=50K\", \">50K\"])\n",
        "disp.plot(cmap=\"Blues\")\n",
        "plt.show()"
      ],
      "metadata": {
        "colab": {
          "base_uri": "https://localhost:8080/",
          "height": 605
        },
        "id": "Llaqg5IqMO2Q",
        "outputId": "77e90350-ee48-45c8-bf10-e606bba68d4f"
      },
      "execution_count": 24,
      "outputs": [
        {
          "output_type": "stream",
          "name": "stdout",
          "text": [
            "--- Karışıklık Matrisi (Confusion Matrix) ---\n",
            "Gerçek Negatif (TN): 5441\n",
            "Yanlış Pozitif (FP): 1362\n",
            "Yanlış Negatif (FN): 364\n",
            "Doğru Pozitif (TP): 1878\n",
            "\n",
            "Matris Tablosu:\n",
            "[[5441 1362]\n",
            " [ 364 1878]]\n"
          ]
        },
        {
          "output_type": "display_data",
          "data": {
            "text/plain": [
              "<Figure size 640x480 with 2 Axes>"
            ],
            "image/png": "[encoded data removed]"
          },
          "metadata": {}
        }
      ]
    },
    {
      "cell_type": "markdown",
      "source": [
        "# 6.3 Sınıflandırma Metriklerini Hesaplama\n",
        "\n",
        "* Modelin performansını Accuracy, Precision, Recall ve F1 Score ile sayısal olarak ölçün."
      ],
      "metadata": {
        "id": "OpiKLwZzMT43"
      }
    },
    {
      "cell_type": "code",
      "source": [
        "accuracy = accuracy_score(y_test, y_pred)\n",
        "precision = precision_score(y_test, y_pred)\n",
        "recall = recall_score(y_test, y_pred)\n",
        "f1 = f1_score(y_test, y_pred)\n",
        "\n",
        "print(\"\\n--- Model Performans Metrikleri ---\")\n",
        "print(f\"Doğruluk (Accuracy): {accuracy:.4f}\")\n",
        "print(f\"Kesinlik (Precision): {precision:.4f}\")\n",
        "print(f\"Duyarlılık (Recall): {recall:.4f}\")\n",
        "print(f\"F1 Skoru (F1 Score): {f1:.4f}\")"
      ],
      "metadata": {
        "colab": {
          "base_uri": "https://localhost:8080/"
        },
        "id": "3REFObZoMYgn",
        "outputId": "94a3152f-ec4b-4be4-fca9-de7f9b8ade87"
      },
      "execution_count": 25,
      "outputs": [
        {
          "output_type": "stream",
          "name": "stdout",
          "text": [
            "\n",
            "--- Model Performans Metrikleri ---\n",
            "Doğruluk (Accuracy): 0.8092\n",
            "Kesinlik (Precision): 0.5796\n",
            "Duyarlılık (Recall): 0.8376\n",
            "F1 Skoru (F1 Score): 0.6852\n"
          ]
        }
      ]
    },
    {
      "cell_type": "markdown",
      "source": [
        "# 📈 ADIM 7: ROC Eğrisi ve AUC Hesaplama ve Çizme\n",
        "\n",
        "* Modelin eşikten bağımsız genel ayırma gücünü ölçen ROC Eğrisi'ni çizin ve AUC Skoru'nu hesaplayın."
      ],
      "metadata": {
        "id": "q-z0dt1lMeW5"
      }
    },
    {
      "cell_type": "code",
      "source": [
        "from sklearn.metrics import roc_curve, roc_auc_score\n",
        "\n",
        "# AUC Skorunu hesaplayın\n",
        "auc = roc_auc_score(y_test, y_proba)\n",
        "\n",
        "# ROC Eğrisi noktalarını hesaplayın (FPR, TPR)\n",
        "fpr, tpr, thresholds = roc_curve(y_test, y_proba)\n",
        "\n",
        "print(f\"\\nAUC Skoru: {auc:.4f}\")\n",
        "\n",
        "# Eğriyi çizin\n",
        "plt.figure(figsize=(8, 6))\n",
        "plt.plot(fpr, tpr, label=f\"ROC Eğrisi (AUC = {auc:.4f})\", color='darkorange', linewidth=2)\n",
        "plt.plot([0, 1], [0, 1], linestyle=\"--\", color=\"gray\", label=\"Rastgele Şans (AUC=0.5)\")\n",
        "plt.xlabel(\"Yanlış Pozitif Oranı (FPR)\")\n",
        "plt.ylabel(\"Doğru Pozitif Oranı (TPR / Duyarlılık)\")\n",
        "plt.title(\"ROC Eğrisi\")\n",
        "plt.legend(loc=\"lower right\")\n",
        "plt.grid(True, linestyle=':', alpha=0.6)\n",
        "plt.show()"
      ],
      "metadata": {
        "colab": {
          "base_uri": "https://localhost:8080/",
          "height": 599
        },
        "id": "ksHYLYfoMenx",
        "outputId": "3d578b64-e300-4579-8565-ed922be27e21"
      },
      "execution_count": 26,
      "outputs": [
        {
          "output_type": "stream",
          "name": "stdout",
          "text": [
            "\n",
            "AUC Skoru: 0.9018\n"
          ]
        },
        {
          "output_type": "display_data",
          "data": {
            "text/plain": [
              "<Figure size 800x600 with 1 Axes>"
            ],
            "image/png": "[encoded data removed]"
          },
          "metadata": {}
        }
      ]
    },
    {
      "cell_type": "markdown",
      "source": [
        "---\n",
        "# 🧐 ADIM 8: Sonuçları Yorumlama ve İş Kararı Verme\n",
        "\n",
        "Hesapladığınız tüm metrikleri (Karışıklık Matrisi, Kesinlik, Duyarlılık, F1 Skoru, AUC) kullanarak modelinizin gerçek dünya performansını analiz edin ve iş problemine göre bir karar verin.\n",
        "\n",
        "* Formatlar:\n",
        "### 1. Metrik Karşılaştırması ve Modelin Eğilimi\n",
        "\n",
        "Hesapladığınız **Doğruluk** puanını diğer metriklerle (Kesinlik, Duyarlılık, F1 Skoru) karşılaştırın:\n",
        "\n",
        "* **Soru:** Genel Doğruluk puanı yüksek görünürken, Kesinlik veya Duyarlılık değerlerinden biri belirgin şekilde düşük mü?\n",
        "* **Analiz:** Bu, veri setinin dengesiz (imbalanced) olduğunu ve modelin hatalarının tek bir yöne eğimli olduğunu gösterir.\n",
        "\n",
        "| Düşük Metrik | Anlamı (Modelin Eğilimi) |\n",
        "| :--- | :--- |\n",
        "| **Düşük Kesinlik ($\\text{Precision}$)** | Modelin çok fazla **Yanlış Pozitif (FP)** hatası yaptığı anlamına gelir. (Fakir birine yanlışlıkla zengin diyor.) |\n",
        "| **Düşük Duyarlılık ($\\text{Recall}$)** | Modelin çok fazla **Yanlış Negatif (FN)** hatası yaptığı anlamına gelir. (Gerçek bir zengini gözden kaçırıyor.) |\n",
        "\n",
        "### 2. Düz Anlatımla Yorumlama\n",
        "\n",
        "Hesaplanan Kesinlik ve Duyarlılık değerlerini kullanarak modelin performansını teknik olmayan dille ifade edin (Bu kısımda hesapladığınız değerleri $\\text{X}$ ve $\\text{Y}$ yerine yapıştırın):\n",
        "\n",
        "* **Kesinlik Yorumu:**\n",
        "    > \"Modelin **zengin** ($\\boldsymbol{>50K}$) olarak **tahmin ettiği** kişilerin sadece **% [Kesinlik Değeri]**'i gerçekten zengindir.\"\n",
        "\n",
        "* **Duyarlılık Yorumu:**\n",
        "    > \"Model, **gerçek zenginlerin** (gerçekte $\\boldsymbol{>50K}$ kazananların) sadece **% [Duyarlılık Değeri]**'sini doğru bir şekilde tespit edebiliyor.\"\n",
        "\n",
        "### 3. İş Kararı: Öncelikli Metrik Seçimi\n",
        "\n",
        "Yüksek gelir tespiti probleminde (iş lideri tespiti, özel bankacılık hedeflemesi vb.) hangi hatanın maliyeti daha yüksektir?\n",
        "\n",
        "* **Seçenek 1: Duyarlılığı ($\\text{Recall}$) Önceliklendirmek**\n",
        "    * **Maliyet:** Yanlış Negatif (FN). (Gerçek bir zengini kaçırmak.)\n",
        "    * **Risk:** Yüksek değerli bir potansiyel müşteriyi kaybetme riski.\n",
        "* **Seçenek 2: Kesinliği ($\\text{Precision}$) Önceliklendirmek**\n",
        "    * **Maliyet:** Yanlış Pozitif (FP). (Fakir birine yanlışlıkla zengin deyip, ona pazarlama/satış kaynağı harcamak.)\n",
        "    * **Risk:** Pazarlama bütçesini ve ekibin zamanını boşa harcama riski.\n",
        "\n",
        "**Kararınızı Gerekçelendirme:**\n",
        "\n",
        "> **Hangi metrik daha önemli?** (Örneğin, **Duyarlılık** / Recall)\n",
        ">\n",
        "> **Neden?** Çünkü bu problemde [Metrik Adı]'nın yüksek olması, [İş Sonucunu] sağlamak için kritik öneme sahiptir. [Önceliklendirilen Hata Türü]'nün maliyeti, [Diğer Hata Türü]'nün maliyetinden daha yüksektir.\n",
        "\n",
        "---"
      ],
      "metadata": {
        "id": "zuUBiF_XMwTl"
      }
    },
    {
      "cell_type": "markdown",
      "source": [
        "# 🧐 ADIM 8: Sonuçların Yorumlanması ve İş Kararı\n",
        "\n",
        "## 📊 Tipik Sonuç Varsayımı (Örnek)\n",
        "\n",
        "Aşağıdaki değerler, Adult Income veri setinde Lojistik Regresyon ve sınıf ağırlıklandırması kullanıldığında elde edilen **tipik** metrik sonuçlarını temsil etmektedir:\n",
        "\n",
        "| Metrik | Tipik Değer |\n",
        "| :--- | :--- |\n",
        "| **Accuracy (Doğruluk)** | $\\sim 80.00\\%$ |\n",
        "| **Precision (Kesinlik)** | $\\sim 58.00\\%$ |\n",
        "| **Recall (Duyarlılık)** | $\\sim 78.00\\%$ |\n",
        "| **F1 Score** | $\\sim 67.00\\%$ |\n",
        "| **AUC** | $\\sim 0.8800$ |\n",
        "| **FP (Yanlış Pozitif)** | Yüksek |\n",
        "| **FN (Yanlış Negatif)** | Orta/Düşük |\n",
        "\n",
        "Bu varsayımlara dayanarak, işte detaylı analiz metni:\n",
        "\n",
        "---\n",
        "\n",
        "## 1. Metrik Karşılaştırması ve Modelin Eğilimi\n",
        "\n",
        "Hesapladığınız Doğruluk puanını ($\\sim 80.00\\%$) diğer metriklerle (Kesinlik, Duyarlılık, F1 Skoru) karşılaştıralım:\n",
        "\n",
        "* **Soru:** Genel Doğruluk puanı yüksek görünürken, Kesinlik ($\\sim 58\\%$) ve Duyarlılık ($\\sim 78\\%$) değerlerinden biri belirgin şekilde düşük mü?\n",
        "* **Analiz:** Doğruluk yüksek görünse de, **Kesinlik değerinin ($\\sim 58\\%$ ) Duyarlılık değerine ($\\sim 78\\%$ ) göre belirgin şekilde düşük olması**, modelin hatalarının tek bir yöne eğimli olduğunu gösterir. Model, `class_weight='balanced'` ayarı sayesinde daha fazla kişiyi zengin olarak etiketlemeye (Recall'u yükseltmeye) zorlanmıştır.\n",
        "\n",
        "| Modelin Eğilimi | Düşük Metrik | Anlamı (Model Davranışı) |\n",
        "| :--- | :--- | :--- |\n",
        "| **Aşırı Hevesli** | **Düşük Kesinlik ($\\text{Precision}$)** | Modelin çok fazla **Yanlış Pozitif (FP)** hatası yaptığı anlamına gelir. (Fakir birine yanlışlıkla zengin diyor.) |\n",
        "| **Başarılı Yakalama** | **Yüksek Duyarlılık ($\\text{Recall}$)** | Modelin, gerçek zenginlerin büyük bir kısmını yakaladığını gösterir, yani **Yanlış Negatif (FN)** hatasını düşük tutmuştur. |\n",
        "\n",
        "## 2. Düz Anlatımla Yorumlama\n",
        "\n",
        "Hesaplanan metrikleri (Örn: $\\text{Precision}=0.58$, $\\text{Recall}=0.78$) kullanarak modelin performansını teknik olmayan dille ifade edelim:\n",
        "\n",
        "* **Kesinlik Yorumu:**\n",
        "    > \"Modelin **zengin** ($\\boldsymbol{>50K}$) olarak **tahmin ettiği** kişilerin sadece **%58**'i gerçekten zengindir. Bu, her 10 tahminden yaklaşık 4'ünün yanlış alarm olduğu anlamına gelir.\"\n",
        "\n",
        "* **Duyarlılık Yorumu:**\n",
        "    > \"Model, **gerçek zenginlerin** (gerçekte $\\boldsymbol{>50K}$ kazananların) **%78**'ini doğru bir şekilde tespit edebiliyor. Yani, yüksek gelirli potansiyel müşterilerin önemli bir kısmını **gözden kaçırmıyor**.\"\n",
        "\n",
        "## 3. İş Kararı: Öncelikli Metrik Seçimi\n",
        "\n",
        "Yüksek gelir tespiti probleminde (Örn: Özel Bankacılık İçin Müşteri Adayı Tespiti) hangi hata daha maliyetlidir?\n",
        "\n",
        "| Seçenek | Odak Noktası | Maliyet/Risk |\n",
        "| :--- | :--- | :--- |\n",
        "| **Duyarlılığı ($\\text{Recall}$) Önceliklendirmek** | Yanlış Negatif (FN) | Yüksek değerli, kârlı bir potansiyel müşteriyi (lead) **rakibe kaptırma** riski. |\n",
        "| **Kesinliği ($\\text{Precision}$) Önceliklendirmek** | Yanlış Pozitif (FP) | Pahalı satış/pazarlama kaynaklarını, **niteliksiz potansiyel müşteriler** üzerinde boşa harcama riski. |\n",
        "\n",
        "**Karar ve Gerekçe:**\n",
        "\n",
        "* **Karar:** Bu senaryoda **Duyarlılık ($\\text{Recall}$) daha kritik öneme sahiptir.**\n",
        "\n",
        "* **Neden?** Çünkü yüksek gelirli (zengin) müşteriler, düşük gelirli müşterilere kıyasla şirkete kat kat fazla kâr getirir. Bu problemde, **gerçek bir zengini kaçırmanın (FN) maliyeti**, yanlış bir kişiye zaman harcama (FP) maliyetinden **çok daha yüksektir**. Modelin $\\text{Recall}$'u ($\\sim 78\\%$) bu nedenle $\\text{Precision}$ ($\\sim 58\\%$) değerinden daha değerli kabul edilir, çünkü potansiyel müşterilerin büyük çoğunluğunu yakalamayı garanti eder."
      ],
      "metadata": {
        "id": "vKxnEjPWXw57"
      }
    },
    {
      "cell_type": "markdown",
      "source": [],
      "metadata": {
        "id": "sOfQvjVxW1d6"
      }
    }
  ]
}